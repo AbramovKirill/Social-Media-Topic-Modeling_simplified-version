{
 "cells": [
  {
   "cell_type": "code",
   "execution_count": 1,
   "metadata": {},
   "outputs": [],
   "source": [
    "import configparser\n",
    "import json"
   ]
  },
  {
   "cell_type": "code",
   "execution_count": 2,
   "metadata": {},
   "outputs": [],
   "source": [
    "import nest_asyncio\n",
    "nest_asyncio.apply()"
   ]
  },
  {
   "cell_type": "code",
   "execution_count": 3,
   "metadata": {},
   "outputs": [],
   "source": [
    "import asyncio\n",
    "from datetime import date, datetime"
   ]
  },
  {
   "cell_type": "code",
   "execution_count": 4,
   "metadata": {},
   "outputs": [],
   "source": [
    "from telethon import TelegramClient\n",
    "from telethon.errors import SessionPasswordNeededError\n",
    "from telethon.tl.functions.messages import (GetHistoryRequest)\n",
    "from telethon.tl.types import (\n",
    "PeerChannel\n",
    ")"
   ]
  },
  {
   "cell_type": "code",
   "execution_count": 5,
   "metadata": {},
   "outputs": [],
   "source": [
    "class DateTimeEncoder(json.JSONEncoder):\n",
    "    def default(self, o):\n",
    "        if isinstance(o, datetime):\n",
    "            return o.isoformat()\n",
    "\n",
    "        if isinstance(o, bytes):\n",
    "            return list(o)\n",
    "\n",
    "        return json.JSONEncoder.default(self, o)"
   ]
  },
  {
   "cell_type": "code",
   "execution_count": 6,
   "metadata": {},
   "outputs": [],
   "source": [
    "config = configparser.ConfigParser()\n",
    "config.read(\"config.ini\")\n",
    "\n",
    "# Setting configuration values\n",
    "api_id = config['Telegram']['api_id']\n",
    "api_hash = str(config['Telegram']['api_hash'])\n",
    "\n",
    "\n",
    "phone = config['Telegram']['phone']\n",
    "username = config['Telegram']['username']\n",
    "\n",
    "link = config['Channels']['link']\n",
    "\n",
    "\n",
    "file_name = str(config['Files']['file'])  + \".json\"\n"
   ]
  },
  {
   "cell_type": "code",
   "execution_count": 22,
   "metadata": {},
   "outputs": [
    {
     "data": {
      "text/plain": [
       "'+380678885481'"
      ]
     },
     "execution_count": 22,
     "metadata": {},
     "output_type": "execute_result"
    }
   ],
   "source": [
    "phone"
   ]
  },
  {
   "cell_type": "code",
   "execution_count": 7,
   "metadata": {},
   "outputs": [],
   "source": [
    "# Create the client and connect\n",
    "\n",
    "client = TelegramClient(username, api_id, api_hash)\n"
   ]
  },
  {
   "cell_type": "code",
   "execution_count": 8,
   "metadata": {},
   "outputs": [],
   "source": [
    "async def main(phone,link, file_name):\n",
    "    await client.start()\n",
    "    print(\"Client Created\")\n",
    "    # Авторизація\n",
    "    if await client.is_user_authorized() == False:\n",
    "        await client.send_code_request(phone)\n",
    "        try:\n",
    "            await client.sign_in(phone, input('Enter the code: '))\n",
    "        except SessionPasswordNeededError:\n",
    "            print(\"Password is needed\")\n",
    "\n",
    "    me = await client.get_me()\n",
    "\n",
    "\n",
    "\n",
    "    my_channel = await client.get_entity(link)\n",
    "\n",
    "    offset_id = 0\n",
    "    limit = 100\n",
    "    all_messages = []\n",
    "    total_messages = 0\n",
    "    total_count_limit = 1000\n",
    "    # Зчитування повідомлень\n",
    "    \n",
    "    while True:\n",
    "        print(\"Current Offset ID is:\", offset_id, \"; Total Messages:\", total_messages)\n",
    "        history = await client(GetHistoryRequest(\n",
    "            peer=my_channel,\n",
    "            offset_id=offset_id,\n",
    "            offset_date=None,\n",
    "            add_offset=0,\n",
    "            limit=limit,\n",
    "            max_id=0,\n",
    "            min_id=0,\n",
    "            hash=0\n",
    "        ))\n",
    "        if not history.messages:\n",
    "            break\n",
    "        messages = history.messages\n",
    "        for message in messages:\n",
    "            all_messages.append(message.to_dict())\n",
    "        offset_id = messages[len(messages) - 1].id\n",
    "        total_messages = len(all_messages)\n",
    "        if total_count_limit != 0 and total_messages >= total_count_limit:\n",
    "            break\n",
    "    # Запис в файл \n",
    "    with open(file_name, 'w') as outfile:\n",
    "        json.dump(all_messages, outfile, cls=DateTimeEncoder)\n",
    "    await client.disconnect()\n",
    "\n",
    "\n"
   ]
  },
  {
   "cell_type": "code",
   "execution_count": 9,
   "metadata": {},
   "outputs": [
    {
     "name": "stdout",
     "output_type": "stream",
     "text": [
      "Client Created\n",
      "Current Offset ID is: 0 ; Total Messages: 0\n",
      "Current Offset ID is: 7840 ; Total Messages: 100\n",
      "Current Offset ID is: 7729 ; Total Messages: 200\n",
      "Current Offset ID is: 7620 ; Total Messages: 300\n",
      "Current Offset ID is: 7510 ; Total Messages: 400\n",
      "Current Offset ID is: 7406 ; Total Messages: 500\n",
      "Current Offset ID is: 7295 ; Total Messages: 600\n",
      "Current Offset ID is: 7183 ; Total Messages: 700\n",
      "Current Offset ID is: 7079 ; Total Messages: 800\n",
      "Current Offset ID is: 6970 ; Total Messages: 900\n"
     ]
    }
   ],
   "source": [
    "client.loop.run_until_complete(main(phone,link,file_name))"
   ]
  },
  {
   "cell_type": "code",
   "execution_count": null,
   "metadata": {},
   "outputs": [],
   "source": []
  }
 ],
 "metadata": {
  "kernelspec": {
   "display_name": "Python 3",
   "language": "python",
   "name": "python3"
  },
  "language_info": {
   "codemirror_mode": {
    "name": "ipython",
    "version": 3
   },
   "file_extension": ".py",
   "mimetype": "text/x-python",
   "name": "python",
   "nbconvert_exporter": "python",
   "pygments_lexer": "ipython3",
   "version": "3.10.8"
  },
  "orig_nbformat": 4,
  "vscode": {
   "interpreter": {
    "hash": "8229163749b726565a2a76da1ff38f88f4958abb13b2d90e33d905a471b89730"
   }
  }
 },
 "nbformat": 4,
 "nbformat_minor": 2
}
