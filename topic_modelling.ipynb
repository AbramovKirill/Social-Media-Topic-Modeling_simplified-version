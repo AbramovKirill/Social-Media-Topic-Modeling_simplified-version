{
 "cells": [
  {
   "cell_type": "code",
   "execution_count": 15,
   "metadata": {},
   "outputs": [],
   "source": [
    "import configparser\n"
   ]
  },
  {
   "cell_type": "code",
   "execution_count": 16,
   "metadata": {},
   "outputs": [],
   "source": [
    "import numpy as np\n",
    "import pandas as pd\n",
    "from IPython.display import display\n",
    "from tqdm import tqdm\n",
    "from collections import Counter\n",
    "import ast\n",
    "\n",
    "import matplotlib.pyplot as plt\n",
    "import matplotlib.mlab as mlab\n",
    "import seaborn as sb\n",
    "\n",
    "from sklearn.feature_extraction.text import CountVectorizer\n",
    "from textblob import TextBlob\n",
    "import scipy.stats as stats\n",
    "\n",
    "from sklearn.decomposition import TruncatedSVD\n",
    "from sklearn.decomposition import LatentDirichletAllocation\n",
    "from sklearn.manifold import TSNE\n",
    "\n",
    "from bokeh.plotting import figure, output_file, show\n",
    "from bokeh.models import Label\n",
    "from bokeh.io import output_notebook\n",
    "\n"
   ]
  },
  {
   "cell_type": "code",
   "execution_count": 17,
   "metadata": {},
   "outputs": [],
   "source": [
    "import nltk\n",
    "from nltk.corpus import stopwords\n",
    "from nltk.tokenize import sent_tokenize, word_tokenize"
   ]
  },
  {
   "cell_type": "code",
   "execution_count": 18,
   "metadata": {},
   "outputs": [],
   "source": [
    "import pandas as pd\n",
    "import matplotlib.pyplot as plt"
   ]
  },
  {
   "cell_type": "code",
   "execution_count": 19,
   "metadata": {},
   "outputs": [],
   "source": [
    "config = configparser.ConfigParser()\n",
    "config.read(\"config.ini\")\n",
    "name = str(config['Files']['file']) "
   ]
  },
  {
   "cell_type": "markdown",
   "metadata": {},
   "source": [
    "Зчитування даних"
   ]
  },
  {
   "cell_type": "code",
   "execution_count": 20,
   "metadata": {},
   "outputs": [],
   "source": [
    "df = pd.read_json(name  + \".json\" )"
   ]
  },
  {
   "cell_type": "code",
   "execution_count": 21,
   "metadata": {},
   "outputs": [
    {
     "data": {
      "text/html": [
       "<div>\n",
       "<style scoped>\n",
       "    .dataframe tbody tr th:only-of-type {\n",
       "        vertical-align: middle;\n",
       "    }\n",
       "\n",
       "    .dataframe tbody tr th {\n",
       "        vertical-align: top;\n",
       "    }\n",
       "\n",
       "    .dataframe thead th {\n",
       "        text-align: right;\n",
       "    }\n",
       "</style>\n",
       "<table border=\"1\" class=\"dataframe\">\n",
       "  <thead>\n",
       "    <tr style=\"text-align: right;\">\n",
       "      <th></th>\n",
       "      <th>date</th>\n",
       "      <th>message</th>\n",
       "    </tr>\n",
       "  </thead>\n",
       "  <tbody>\n",
       "    <tr>\n",
       "      <th>0</th>\n",
       "      <td>2023-01-12 18:28:01+00:00</td>\n",
       "      <td></td>\n",
       "    </tr>\n",
       "    <tr>\n",
       "      <th>1</th>\n",
       "      <td>2023-01-12 18:28:00+00:00</td>\n",
       "      <td>У нас радость!! Собрали целых две газели гумма...</td>\n",
       "    </tr>\n",
       "    <tr>\n",
       "      <th>2</th>\n",
       "      <td>2023-01-12 07:33:05+00:00</td>\n",
       "      <td></td>\n",
       "    </tr>\n",
       "    <tr>\n",
       "      <th>3</th>\n",
       "      <td>2023-01-12 07:33:05+00:00</td>\n",
       "      <td></td>\n",
       "    </tr>\n",
       "    <tr>\n",
       "      <th>4</th>\n",
       "      <td>2023-01-12 07:33:05+00:00</td>\n",
       "      <td></td>\n",
       "    </tr>\n",
       "    <tr>\n",
       "      <th>...</th>\n",
       "      <td>...</td>\n",
       "      <td>...</td>\n",
       "    </tr>\n",
       "    <tr>\n",
       "      <th>995</th>\n",
       "      <td>2022-08-05 05:41:59+00:00</td>\n",
       "      <td>Мы в ОПСБ делаем то, что делаем, не ради медал...</td>\n",
       "    </tr>\n",
       "    <tr>\n",
       "      <th>996</th>\n",
       "      <td>2022-08-04 20:49:58+00:00</td>\n",
       "      <td>Из жизни паховых гнид</td>\n",
       "    </tr>\n",
       "    <tr>\n",
       "      <th>997</th>\n",
       "      <td>2022-08-04 18:25:59+00:00</td>\n",
       "      <td>Хорошие новости с Артемовского направления. ЧВ...</td>\n",
       "    </tr>\n",
       "    <tr>\n",
       "      <th>998</th>\n",
       "      <td>2022-08-04 14:04:59+00:00</td>\n",
       "      <td>Сегодня 4 августа печальная годовщина не тольк...</td>\n",
       "    </tr>\n",
       "    <tr>\n",
       "      <th>999</th>\n",
       "      <td>2022-08-04 13:45:25+00:00</td>\n",
       "      <td></td>\n",
       "    </tr>\n",
       "  </tbody>\n",
       "</table>\n",
       "<p>1000 rows × 2 columns</p>\n",
       "</div>"
      ],
      "text/plain": [
       "                         date  \\\n",
       "0   2023-01-12 18:28:01+00:00   \n",
       "1   2023-01-12 18:28:00+00:00   \n",
       "2   2023-01-12 07:33:05+00:00   \n",
       "3   2023-01-12 07:33:05+00:00   \n",
       "4   2023-01-12 07:33:05+00:00   \n",
       "..                        ...   \n",
       "995 2022-08-05 05:41:59+00:00   \n",
       "996 2022-08-04 20:49:58+00:00   \n",
       "997 2022-08-04 18:25:59+00:00   \n",
       "998 2022-08-04 14:04:59+00:00   \n",
       "999 2022-08-04 13:45:25+00:00   \n",
       "\n",
       "                                               message  \n",
       "0                                                       \n",
       "1    У нас радость!! Собрали целых две газели гумма...  \n",
       "2                                                       \n",
       "3                                                       \n",
       "4                                                       \n",
       "..                                                 ...  \n",
       "995  Мы в ОПСБ делаем то, что делаем, не ради медал...  \n",
       "996                              Из жизни паховых гнид  \n",
       "997  Хорошие новости с Артемовского направления. ЧВ...  \n",
       "998  Сегодня 4 августа печальная годовщина не тольк...  \n",
       "999                                                     \n",
       "\n",
       "[1000 rows x 2 columns]"
      ]
     },
     "execution_count": 21,
     "metadata": {},
     "output_type": "execute_result"
    }
   ],
   "source": [
    "df = df[[\"date\",\"message\"]]\n",
    "df"
   ]
  },
  {
   "cell_type": "code",
   "execution_count": 22,
   "metadata": {},
   "outputs": [],
   "source": [
    "df[\"date\"] = df[\"date\"].dt.strftime('%Y-%m-%d')"
   ]
  },
  {
   "cell_type": "code",
   "execution_count": 23,
   "metadata": {},
   "outputs": [
    {
     "data": {
      "text/html": [
       "<div>\n",
       "<style scoped>\n",
       "    .dataframe tbody tr th:only-of-type {\n",
       "        vertical-align: middle;\n",
       "    }\n",
       "\n",
       "    .dataframe tbody tr th {\n",
       "        vertical-align: top;\n",
       "    }\n",
       "\n",
       "    .dataframe thead th {\n",
       "        text-align: right;\n",
       "    }\n",
       "</style>\n",
       "<table border=\"1\" class=\"dataframe\">\n",
       "  <thead>\n",
       "    <tr style=\"text-align: right;\">\n",
       "      <th></th>\n",
       "      <th>date</th>\n",
       "      <th>message</th>\n",
       "    </tr>\n",
       "  </thead>\n",
       "  <tbody>\n",
       "    <tr>\n",
       "      <th>0</th>\n",
       "      <td>2023-01-12</td>\n",
       "      <td></td>\n",
       "    </tr>\n",
       "    <tr>\n",
       "      <th>1</th>\n",
       "      <td>2023-01-12</td>\n",
       "      <td>У нас радость!! Собрали целых две газели гумма...</td>\n",
       "    </tr>\n",
       "    <tr>\n",
       "      <th>2</th>\n",
       "      <td>2023-01-12</td>\n",
       "      <td></td>\n",
       "    </tr>\n",
       "    <tr>\n",
       "      <th>3</th>\n",
       "      <td>2023-01-12</td>\n",
       "      <td></td>\n",
       "    </tr>\n",
       "    <tr>\n",
       "      <th>4</th>\n",
       "      <td>2023-01-12</td>\n",
       "      <td></td>\n",
       "    </tr>\n",
       "    <tr>\n",
       "      <th>5</th>\n",
       "      <td>2023-01-12</td>\n",
       "      <td>З00 разгрузок + теплая форма,берцы,печки 10шт,...</td>\n",
       "    </tr>\n",
       "    <tr>\n",
       "      <th>6</th>\n",
       "      <td>2023-01-07</td>\n",
       "      <td>С Рождеством!</td>\n",
       "    </tr>\n",
       "    <tr>\n",
       "      <th>7</th>\n",
       "      <td>2023-01-06</td>\n",
       "      <td></td>\n",
       "    </tr>\n",
       "    <tr>\n",
       "      <th>8</th>\n",
       "      <td>2023-01-06</td>\n",
       "      <td>Попытки дискредитации или вызвать разлад в сое...</td>\n",
       "    </tr>\n",
       "    <tr>\n",
       "      <th>9</th>\n",
       "      <td>2023-01-05</td>\n",
       "      <td></td>\n",
       "    </tr>\n",
       "  </tbody>\n",
       "</table>\n",
       "</div>"
      ],
      "text/plain": [
       "         date                                            message\n",
       "0  2023-01-12                                                   \n",
       "1  2023-01-12  У нас радость!! Собрали целых две газели гумма...\n",
       "2  2023-01-12                                                   \n",
       "3  2023-01-12                                                   \n",
       "4  2023-01-12                                                   \n",
       "5  2023-01-12  З00 разгрузок + теплая форма,берцы,печки 10шт,...\n",
       "6  2023-01-07                                      С Рождеством!\n",
       "7  2023-01-06                                                   \n",
       "8  2023-01-06  Попытки дискредитации или вызвать разлад в сое...\n",
       "9  2023-01-05                                                   "
      ]
     },
     "execution_count": 23,
     "metadata": {},
     "output_type": "execute_result"
    }
   ],
   "source": [
    "df.head(10)"
   ]
  },
  {
   "cell_type": "code",
   "execution_count": 24,
   "metadata": {},
   "outputs": [
    {
     "data": {
      "text/plain": [
       "date\n",
       "2023-01-12                                                     \n",
       "2023-01-12    У нас радость!! Собрали целых две газели гумма...\n",
       "2023-01-12                                                     \n",
       "2023-01-12                                                     \n",
       "2023-01-12                                                     \n",
       "                                    ...                        \n",
       "2022-08-05    Мы в ОПСБ делаем то, что делаем, не ради медал...\n",
       "2022-08-04                                Из жизни паховых гнид\n",
       "2022-08-04    Хорошие новости с Артемовского направления. ЧВ...\n",
       "2022-08-04    Сегодня 4 августа печальная годовщина не тольк...\n",
       "2022-08-04                                                     \n",
       "Name: message, Length: 1000, dtype: object"
      ]
     },
     "execution_count": 24,
     "metadata": {},
     "output_type": "execute_result"
    }
   ],
   "source": [
    "\n",
    "reindexed_data = df[\"message\"]\n",
    "reindexed_data.index = df['date']\n",
    "\n",
    "reindexed_data = reindexed_data.dropna()\n",
    "reindexed_data"
   ]
  },
  {
   "cell_type": "code",
   "execution_count": 25,
   "metadata": {},
   "outputs": [],
   "source": [
    "# Define helper functions\n",
    "def get_top(n_top_words, count_vectorizer, text_data):\n",
    "    '''\n",
    "    returns a tuple of the top n words in a sample and their \n",
    "    accompanying counts, given a CountVectorizer object and text sample\n",
    "    '''\n",
    "    vectorized_headlines = count_vectorizer.fit_transform(text_data.values)\n",
    "    vectorized_total = np.sum(vectorized_headlines, axis=0)\n",
    "    word_indices = np.flip(np.argsort(vectorized_total)[0,:], 1)\n",
    "    word_values = np.flip(np.sort(vectorized_total)[0,:],1)\n",
    "    \n",
    "    word_vectors = np.zeros((n_top_words, vectorized_headlines.shape[1]))\n",
    "    for i in range(n_top_words):\n",
    "        word_vectors[i,word_indices[0,i]] = 1\n",
    "\n",
    "    words = [word[0] for word in count_vectorizer.inverse_transform(word_vectors)]\n",
    "\n",
    "    return (words, word_values[0,:n_top_words].tolist()[0])"
   ]
  },
  {
   "cell_type": "markdown",
   "metadata": {},
   "source": [
    "Препроцесинг"
   ]
  },
  {
   "cell_type": "code",
   "execution_count": 26,
   "metadata": {},
   "outputs": [
    {
     "data": {
      "text/plain": [
       "['и',\n",
       " 'в',\n",
       " 'во',\n",
       " 'не',\n",
       " 'что',\n",
       " 'он',\n",
       " 'на',\n",
       " 'я',\n",
       " 'с',\n",
       " 'со',\n",
       " 'как',\n",
       " 'а',\n",
       " 'то',\n",
       " 'все',\n",
       " 'она',\n",
       " 'так',\n",
       " 'его',\n",
       " 'но',\n",
       " 'да',\n",
       " 'ты',\n",
       " 'к',\n",
       " 'у',\n",
       " 'же',\n",
       " 'вы',\n",
       " 'за',\n",
       " 'бы',\n",
       " 'по',\n",
       " 'только',\n",
       " 'ее',\n",
       " 'мне',\n",
       " 'было',\n",
       " 'вот',\n",
       " 'от',\n",
       " 'меня',\n",
       " 'еще',\n",
       " 'нет',\n",
       " 'о',\n",
       " 'из',\n",
       " 'ему',\n",
       " 'теперь',\n",
       " 'когда',\n",
       " 'даже',\n",
       " 'ну',\n",
       " 'вдруг',\n",
       " 'ли',\n",
       " 'если',\n",
       " 'уже',\n",
       " 'или',\n",
       " 'ни',\n",
       " 'быть',\n",
       " 'был',\n",
       " 'него',\n",
       " 'до',\n",
       " 'вас',\n",
       " 'нибудь',\n",
       " 'опять',\n",
       " 'уж',\n",
       " 'вам',\n",
       " 'ведь',\n",
       " 'там',\n",
       " 'потом',\n",
       " 'себя',\n",
       " 'ничего',\n",
       " 'ей',\n",
       " 'может',\n",
       " 'они',\n",
       " 'тут',\n",
       " 'где',\n",
       " 'есть',\n",
       " 'надо',\n",
       " 'ней',\n",
       " 'для',\n",
       " 'мы',\n",
       " 'тебя',\n",
       " 'их',\n",
       " 'чем',\n",
       " 'была',\n",
       " 'сам',\n",
       " 'чтоб',\n",
       " 'без',\n",
       " 'будто',\n",
       " 'чего',\n",
       " 'раз',\n",
       " 'тоже',\n",
       " 'себе',\n",
       " 'под',\n",
       " 'будет',\n",
       " 'ж',\n",
       " 'тогда',\n",
       " 'кто',\n",
       " 'этот',\n",
       " 'того',\n",
       " 'потому',\n",
       " 'этого',\n",
       " 'какой',\n",
       " 'совсем',\n",
       " 'ним',\n",
       " 'здесь',\n",
       " 'этом',\n",
       " 'один',\n",
       " 'почти',\n",
       " 'мой',\n",
       " 'тем',\n",
       " 'чтобы',\n",
       " 'нее',\n",
       " 'сейчас',\n",
       " 'были',\n",
       " 'куда',\n",
       " 'зачем',\n",
       " 'всех',\n",
       " 'никогда',\n",
       " 'можно',\n",
       " 'при',\n",
       " 'наконец',\n",
       " 'два',\n",
       " 'об',\n",
       " 'другой',\n",
       " 'хоть',\n",
       " 'после',\n",
       " 'над',\n",
       " 'больше',\n",
       " 'тот',\n",
       " 'через',\n",
       " 'эти',\n",
       " 'нас',\n",
       " 'про',\n",
       " 'всего',\n",
       " 'них',\n",
       " 'какая',\n",
       " 'много',\n",
       " 'разве',\n",
       " 'три',\n",
       " 'эту',\n",
       " 'моя',\n",
       " 'впрочем',\n",
       " 'хорошо',\n",
       " 'свою',\n",
       " 'этой',\n",
       " 'перед',\n",
       " 'иногда',\n",
       " 'лучше',\n",
       " 'чуть',\n",
       " 'том',\n",
       " 'нельзя',\n",
       " 'такой',\n",
       " 'им',\n",
       " 'более',\n",
       " 'всегда',\n",
       " 'конечно',\n",
       " 'всю',\n",
       " 'между',\n",
       " 'это',\n",
       " 'як',\n",
       " 'ещё',\n",
       " 'це',\n",
       " 'але',\n",
       " 'що',\n",
       " 'nevzorovtv',\n",
       " 'com',\n",
       " 'всё',\n",
       " 'весь',\n",
       " 'наш',\n",
       " 'свой',\n",
       " 'все',\n",
       " 'https',\n",
       " 'me',\n",
       " 'которые',\n",
       " 'который']"
      ]
     },
     "execution_count": 26,
     "metadata": {},
     "output_type": "execute_result"
    }
   ],
   "source": [
    "#тут ми імпортуємо словар стоп слів, ми його розишир\n",
    "stop_words = stopwords.words('russian')\n",
    "stop_words.extend([\"это\",\"як\",\"ещё\",\"це\", \"але\", \"що\", \"nevzorovtv\",\"com\",\"всё\",\"весь\",\"наш\",\"свой\",\"все\",\"https\", \"me\", \"которые\", \"который\"])\n",
    "stop_words "
   ]
  },
  {
   "cell_type": "code",
   "execution_count": 27,
   "metadata": {},
   "outputs": [],
   "source": [
    "\n",
    "from string import punctuation\n",
    "\n",
    "#тут ми робимо препроцесинг\n",
    "import pymorphy2\n",
    "morph = pymorphy2.MorphAnalyzer()\n",
    "from nltk.corpus import stopwords\n",
    "#тут робиться лематизація\n",
    "def lemmatize(words):\n",
    "    res = list()\n",
    "    for word in words:\n",
    "        p = morph.parse(word)[0]\n",
    "        res.append(p.normal_form)\n",
    "\n",
    "    return res\n",
    "\n",
    "#токенізація\n",
    "def preprocessing(line):\n",
    "    tokenize = word_tokenize(line.lower(), language = \"russian\")\n",
    "    lem = lemmatize(tokenize)\n",
    "    ## фильтрация на стоп слова и на пунктуацію\n",
    "    res = list(filter(lambda w: w not in stop_words and w not in punctuation, lem))\n",
    "\n",
    "    return \" \".join(res)"
   ]
  },
  {
   "cell_type": "code",
   "execution_count": 28,
   "metadata": {},
   "outputs": [
    {
     "name": "stderr",
     "output_type": "stream",
     "text": [
      "[nltk_data] Downloading package punkt to\n",
      "[nltk_data]     C:\\Users\\allon\\AppData\\Roaming\\nltk_data...\n",
      "[nltk_data]   Package punkt is already up-to-date!\n"
     ]
    },
    {
     "data": {
      "text/plain": [
       "True"
      ]
     },
     "execution_count": 28,
     "metadata": {},
     "output_type": "execute_result"
    }
   ],
   "source": [
    "nltk.download(\"punkt\")"
   ]
  },
  {
   "cell_type": "code",
   "execution_count": 29,
   "metadata": {},
   "outputs": [],
   "source": [
    "reindexed_data = reindexed_data.apply(preprocessing)"
   ]
  },
  {
   "cell_type": "code",
   "execution_count": 30,
   "metadata": {},
   "outputs": [
    {
     "data": {
      "text/plain": [
       "''"
      ]
     },
     "execution_count": 30,
     "metadata": {},
     "output_type": "execute_result"
    }
   ],
   "source": [
    "#як виглядає перша строка після всього\n",
    "new_data = reindexed_data.apply(preprocessing)\n",
    "new_data[0]"
   ]
  },
  {
   "cell_type": "code",
   "execution_count": 31,
   "metadata": {},
   "outputs": [
    {
     "data": {
      "text/plain": [
       "date\n",
       "2022-12-11    друг боец попросить купить рация азарт наслать...\n",
       "2022-12-11                                                     \n",
       "2022-12-10                            увидеть камедь клаб гость\n",
       "2022-12-10            туалет едва выдержать волна взрыв топоров\n",
       "2022-12-10                                                     \n",
       "2022-12-10    вчера узнать погибнуть друг радик пуля знать «...\n",
       "2022-12-09    заезжать гость прапор тёплый пальтишко тёплый ...\n",
       "2022-12-09    друг собрать нужный сумма накидка спасибо боль...\n",
       "2022-12-09    испания перечитывать книга время испания влады...\n",
       "2022-12-09    инструкция вести здание время обрушение нужно ...\n",
       "Name: message, dtype: object"
      ]
     },
     "execution_count": 31,
     "metadata": {},
     "output_type": "execute_result"
    }
   ],
   "source": [
    "new_data[119:].head(10)"
   ]
  },
  {
   "cell_type": "code",
   "execution_count": 32,
   "metadata": {},
   "outputs": [],
   "source": [
    "reindexed_data.to_csv(\"output/new.csv\")"
   ]
  },
  {
   "cell_type": "markdown",
   "metadata": {},
   "source": [
    "Зчитування з файлу дата"
   ]
  },
  {
   "cell_type": "code",
   "execution_count": 33,
   "metadata": {},
   "outputs": [
    {
     "data": {
      "text/html": [
       "<div>\n",
       "<style scoped>\n",
       "    .dataframe tbody tr th:only-of-type {\n",
       "        vertical-align: middle;\n",
       "    }\n",
       "\n",
       "    .dataframe tbody tr th {\n",
       "        vertical-align: top;\n",
       "    }\n",
       "\n",
       "    .dataframe thead th {\n",
       "        text-align: right;\n",
       "    }\n",
       "</style>\n",
       "<table border=\"1\" class=\"dataframe\">\n",
       "  <thead>\n",
       "    <tr style=\"text-align: right;\">\n",
       "      <th></th>\n",
       "      <th>date</th>\n",
       "      <th>message</th>\n",
       "    </tr>\n",
       "  </thead>\n",
       "  <tbody>\n",
       "    <tr>\n",
       "      <th>0</th>\n",
       "      <td>2023-01-12</td>\n",
       "      <td>NaN</td>\n",
       "    </tr>\n",
       "    <tr>\n",
       "      <th>1</th>\n",
       "      <td>2023-01-12</td>\n",
       "      <td>радость собрать целый газель гумманитарный пом...</td>\n",
       "    </tr>\n",
       "    <tr>\n",
       "      <th>2</th>\n",
       "      <td>2023-01-12</td>\n",
       "      <td>NaN</td>\n",
       "    </tr>\n",
       "    <tr>\n",
       "      <th>3</th>\n",
       "      <td>2023-01-12</td>\n",
       "      <td>NaN</td>\n",
       "    </tr>\n",
       "    <tr>\n",
       "      <th>4</th>\n",
       "      <td>2023-01-12</td>\n",
       "      <td>NaN</td>\n",
       "    </tr>\n",
       "    <tr>\n",
       "      <th>...</th>\n",
       "      <td>...</td>\n",
       "      <td>...</td>\n",
       "    </tr>\n",
       "    <tr>\n",
       "      <th>995</th>\n",
       "      <td>2022-08-05</td>\n",
       "      <td>опсб делать делать ради медаль благодарность н...</td>\n",
       "    </tr>\n",
       "    <tr>\n",
       "      <th>996</th>\n",
       "      <td>2022-08-04</td>\n",
       "      <td>жизнь паховой гнида</td>\n",
       "    </tr>\n",
       "    <tr>\n",
       "      <th>997</th>\n",
       "      <td>2022-08-04</td>\n",
       "      <td>хороший новость артёмовский направление чвк ``...</td>\n",
       "    </tr>\n",
       "    <tr>\n",
       "      <th>998</th>\n",
       "      <td>2022-08-04</td>\n",
       "      <td>сегодня 4 август печальный годовщина `` особый...</td>\n",
       "    </tr>\n",
       "    <tr>\n",
       "      <th>999</th>\n",
       "      <td>2022-08-04</td>\n",
       "      <td>NaN</td>\n",
       "    </tr>\n",
       "  </tbody>\n",
       "</table>\n",
       "<p>1000 rows × 2 columns</p>\n",
       "</div>"
      ],
      "text/plain": [
       "           date                                            message\n",
       "0    2023-01-12                                                NaN\n",
       "1    2023-01-12  радость собрать целый газель гумманитарный пом...\n",
       "2    2023-01-12                                                NaN\n",
       "3    2023-01-12                                                NaN\n",
       "4    2023-01-12                                                NaN\n",
       "..          ...                                                ...\n",
       "995  2022-08-05  опсб делать делать ради медаль благодарность н...\n",
       "996  2022-08-04                                жизнь паховой гнида\n",
       "997  2022-08-04  хороший новость артёмовский направление чвк ``...\n",
       "998  2022-08-04  сегодня 4 август печальный годовщина `` особый...\n",
       "999  2022-08-04                                                NaN\n",
       "\n",
       "[1000 rows x 2 columns]"
      ]
     },
     "execution_count": 33,
     "metadata": {},
     "output_type": "execute_result"
    }
   ],
   "source": [
    "# new_data = pd.read_csv(\"./output/test2.csv\")\n",
    "# new_data\n",
    "# далі читаємо весь датасет, який вже пройшов препроц,\n",
    "data = pd.read_csv(\"./output/new.csv\")\n",
    "data"
   ]
  },
  {
   "cell_type": "code",
   "execution_count": 34,
   "metadata": {},
   "outputs": [
    {
     "data": {
      "text/html": [
       "<div>\n",
       "<style scoped>\n",
       "    .dataframe tbody tr th:only-of-type {\n",
       "        vertical-align: middle;\n",
       "    }\n",
       "\n",
       "    .dataframe tbody tr th {\n",
       "        vertical-align: top;\n",
       "    }\n",
       "\n",
       "    .dataframe thead th {\n",
       "        text-align: right;\n",
       "    }\n",
       "</style>\n",
       "<table border=\"1\" class=\"dataframe\">\n",
       "  <thead>\n",
       "    <tr style=\"text-align: right;\">\n",
       "      <th></th>\n",
       "      <th>date</th>\n",
       "      <th>message</th>\n",
       "    </tr>\n",
       "  </thead>\n",
       "  <tbody>\n",
       "    <tr>\n",
       "      <th>0</th>\n",
       "      <td>2022-11-20</td>\n",
       "      <td>пленный новосибирск просить правительство поме...</td>\n",
       "    </tr>\n",
       "    <tr>\n",
       "      <th>1</th>\n",
       "      <td>2022-11-20</td>\n",
       "      <td>смотреть новый выпуск программа наповал //yout...</td>\n",
       "    </tr>\n",
       "    <tr>\n",
       "      <th>2</th>\n",
       "      <td>2022-11-20</td>\n",
       "      <td>очень эффектно выглядеть лозунг колорадский ле...</td>\n",
       "    </tr>\n",
       "    <tr>\n",
       "      <th>3</th>\n",
       "      <td>2022-11-20</td>\n",
       "      <td>NaN</td>\n",
       "    </tr>\n",
       "    <tr>\n",
       "      <th>4</th>\n",
       "      <td>2022-11-20</td>\n",
       "      <td>NaN</td>\n",
       "    </tr>\n",
       "    <tr>\n",
       "      <th>...</th>\n",
       "      <td>...</td>\n",
       "      <td>...</td>\n",
       "    </tr>\n",
       "    <tr>\n",
       "      <th>991</th>\n",
       "      <td>2022-08-25</td>\n",
       "      <td>🖍 невзоров помимо прочее следствие война понят...</td>\n",
       "    </tr>\n",
       "    <tr>\n",
       "      <th>992</th>\n",
       "      <td>2022-08-25</td>\n",
       "      <td>🖍 « рыпаться » шуметь « спасать » фабрика малы...</td>\n",
       "    </tr>\n",
       "    <tr>\n",
       "      <th>993</th>\n",
       "      <td>2022-08-25</td>\n",
       "      <td>🖍 приметам- накладка недосмотр персонал прямой...</td>\n",
       "    </tr>\n",
       "    <tr>\n",
       "      <th>994</th>\n",
       "      <td>2022-08-24</td>\n",
       "      <td>александр невзоров невзоровский среда питер за...</td>\n",
       "    </tr>\n",
       "    <tr>\n",
       "      <th>995</th>\n",
       "      <td>2022-08-24</td>\n",
       "      <td>//youtu.be/jo9u9ccvwjw</td>\n",
       "    </tr>\n",
       "  </tbody>\n",
       "</table>\n",
       "<p>996 rows × 2 columns</p>\n",
       "</div>"
      ],
      "text/plain": [
       "           date                                            message\n",
       "0    2022-11-20  пленный новосибирск просить правительство поме...\n",
       "1    2022-11-20  смотреть новый выпуск программа наповал //yout...\n",
       "2    2022-11-20  очень эффектно выглядеть лозунг колорадский ле...\n",
       "3    2022-11-20                                                NaN\n",
       "4    2022-11-20                                                NaN\n",
       "..          ...                                                ...\n",
       "991  2022-08-25  🖍 невзоров помимо прочее следствие война понят...\n",
       "992  2022-08-25  🖍 « рыпаться » шуметь « спасать » фабрика малы...\n",
       "993  2022-08-25  🖍 приметам- накладка недосмотр персонал прямой...\n",
       "994  2022-08-24  александр невзоров невзоровский среда питер за...\n",
       "995  2022-08-24                             //youtu.be/jo9u9ccvwjw\n",
       "\n",
       "[996 rows x 2 columns]"
      ]
     },
     "execution_count": 34,
     "metadata": {},
     "output_type": "execute_result"
    }
   ],
   "source": [
    "readed = pd.read_csv(\"./output/nev.csv\")\n",
    "readed"
   ]
  },
  {
   "cell_type": "code",
   "execution_count": 35,
   "metadata": {},
   "outputs": [
    {
     "data": {
      "text/html": [
       "<div>\n",
       "<style scoped>\n",
       "    .dataframe tbody tr th:only-of-type {\n",
       "        vertical-align: middle;\n",
       "    }\n",
       "\n",
       "    .dataframe tbody tr th {\n",
       "        vertical-align: top;\n",
       "    }\n",
       "\n",
       "    .dataframe thead th {\n",
       "        text-align: right;\n",
       "    }\n",
       "</style>\n",
       "<table border=\"1\" class=\"dataframe\">\n",
       "  <thead>\n",
       "    <tr style=\"text-align: right;\">\n",
       "      <th></th>\n",
       "      <th>date</th>\n",
       "      <th>message</th>\n",
       "    </tr>\n",
       "  </thead>\n",
       "  <tbody>\n",
       "    <tr>\n",
       "      <th>1</th>\n",
       "      <td>2023-01-12</td>\n",
       "      <td>радость собрать целый газель гумманитарный пом...</td>\n",
       "    </tr>\n",
       "    <tr>\n",
       "      <th>5</th>\n",
       "      <td>2023-01-12</td>\n",
       "      <td>з00 разгрузка тёплый форма берцы печка 10шт су...</td>\n",
       "    </tr>\n",
       "    <tr>\n",
       "      <th>6</th>\n",
       "      <td>2023-01-07</td>\n",
       "      <td>рождество</td>\n",
       "    </tr>\n",
       "    <tr>\n",
       "      <th>8</th>\n",
       "      <td>2023-01-06</td>\n",
       "      <td>попытка дискредитация вызвать разлад соя семья...</td>\n",
       "    </tr>\n",
       "    <tr>\n",
       "      <th>11</th>\n",
       "      <td>2023-01-05</td>\n",
       "      <td>спасибо</td>\n",
       "    </tr>\n",
       "    <tr>\n",
       "      <th>...</th>\n",
       "      <td>...</td>\n",
       "      <td>...</td>\n",
       "    </tr>\n",
       "    <tr>\n",
       "      <th>990</th>\n",
       "      <td>2022-08-05</td>\n",
       "      <td>сводка '' пограничный фронт '' граница белорус...</td>\n",
       "    </tr>\n",
       "    <tr>\n",
       "      <th>995</th>\n",
       "      <td>2022-08-05</td>\n",
       "      <td>опсб делать делать ради медаль благодарность н...</td>\n",
       "    </tr>\n",
       "    <tr>\n",
       "      <th>996</th>\n",
       "      <td>2022-08-04</td>\n",
       "      <td>жизнь паховой гнида</td>\n",
       "    </tr>\n",
       "    <tr>\n",
       "      <th>997</th>\n",
       "      <td>2022-08-04</td>\n",
       "      <td>хороший новость артёмовский направление чвк ``...</td>\n",
       "    </tr>\n",
       "    <tr>\n",
       "      <th>998</th>\n",
       "      <td>2022-08-04</td>\n",
       "      <td>сегодня 4 август печальный годовщина `` особый...</td>\n",
       "    </tr>\n",
       "  </tbody>\n",
       "</table>\n",
       "<p>710 rows × 2 columns</p>\n",
       "</div>"
      ],
      "text/plain": [
       "           date                                            message\n",
       "1    2023-01-12  радость собрать целый газель гумманитарный пом...\n",
       "5    2023-01-12  з00 разгрузка тёплый форма берцы печка 10шт су...\n",
       "6    2023-01-07                                          рождество\n",
       "8    2023-01-06  попытка дискредитация вызвать разлад соя семья...\n",
       "11   2023-01-05                                            спасибо\n",
       "..          ...                                                ...\n",
       "990  2022-08-05  сводка '' пограничный фронт '' граница белорус...\n",
       "995  2022-08-05  опсб делать делать ради медаль благодарность н...\n",
       "996  2022-08-04                                жизнь паховой гнида\n",
       "997  2022-08-04  хороший новость артёмовский направление чвк ``...\n",
       "998  2022-08-04  сегодня 4 август печальный годовщина `` особый...\n",
       "\n",
       "[710 rows x 2 columns]"
      ]
     },
     "execution_count": 35,
     "metadata": {},
     "output_type": "execute_result"
    }
   ],
   "source": [
    "#data  = readed.append(new_data, ignore_index=True)\n",
    "#data  = data.append(readed, ignore_index=True)\n",
    "# костиль уберет пустіе строки, если они еще есть \n",
    "data  = data.dropna()\n",
    "data "
   ]
  },
  {
   "cell_type": "code",
   "execution_count": 36,
   "metadata": {},
   "outputs": [
    {
     "data": {
      "text/plain": [
       "date\n",
       "2023-01-12    радость собрать целый газель гумманитарный пом...\n",
       "2023-01-12    з00 разгрузка тёплый форма берцы печка 10шт су...\n",
       "2023-01-07                                            рождество\n",
       "2023-01-06    попытка дискредитация вызвать разлад соя семья...\n",
       "2023-01-05                                              спасибо\n",
       "                                    ...                        \n",
       "2022-08-05    сводка '' пограничный фронт '' граница белорус...\n",
       "2022-08-05    опсб делать делать ради медаль благодарность н...\n",
       "2022-08-04                                  жизнь паховой гнида\n",
       "2022-08-04    хороший новость артёмовский направление чвк ``...\n",
       "2022-08-04    сегодня 4 август печальный годовщина `` особый...\n",
       "Name: message, Length: 710, dtype: object"
      ]
     },
     "execution_count": 36,
     "metadata": {},
     "output_type": "execute_result"
    }
   ],
   "source": [
    "reindexed_data = data[\"message\"]\n",
    "reindexed_data.index = data['date']\n",
    "\n",
    "reindexed_data"
   ]
  },
  {
   "attachments": {},
   "cell_type": "markdown",
   "metadata": {},
   "source": [
    "тут виводимо Найбільш популярні слова "
   ]
  },
  {
   "cell_type": "code",
   "execution_count": 37,
   "metadata": {},
   "outputs": [
    {
     "data": {
      "image/png": "[encoded data removed]",
      "text/plain": [
       "<Figure size 1600x800 with 1 Axes>"
      ]
     },
     "metadata": {},
     "output_type": "display_data"
    }
   ],
   "source": [
    "\n",
    "count_vectorizer = CountVectorizer(stop_words=stop_words)\n",
    "words, word_values = get_top(n_top_words=15,\n",
    "                                     count_vectorizer=count_vectorizer, \n",
    "                                     text_data=reindexed_data)\n",
    "\n",
    "fig, ax = plt.subplots(figsize=(16,8))\n",
    "ax.bar(range(len(words)), word_values);\n",
    "ax.set_xticks(range(len(words)));\n",
    "ax.set_xticklabels(words, rotation='vertical');\n",
    "ax.set_title('Найбільш популярні слова');\n",
    "ax.set_xlabel('Слово');\n",
    "ax.set_ylabel('Кількість');\n",
    "plt.show()"
   ]
  },
  {
   "cell_type": "code",
   "execution_count": 38,
   "metadata": {},
   "outputs": [
    {
     "data": {
      "text/plain": [
       "['и',\n",
       " 'в',\n",
       " 'во',\n",
       " 'не',\n",
       " 'что',\n",
       " 'он',\n",
       " 'на',\n",
       " 'я',\n",
       " 'с',\n",
       " 'со',\n",
       " 'как',\n",
       " 'а',\n",
       " 'то',\n",
       " 'все',\n",
       " 'она',\n",
       " 'так',\n",
       " 'его',\n",
       " 'но',\n",
       " 'да',\n",
       " 'ты',\n",
       " 'к',\n",
       " 'у',\n",
       " 'же',\n",
       " 'вы',\n",
       " 'за',\n",
       " 'бы',\n",
       " 'по',\n",
       " 'только',\n",
       " 'ее',\n",
       " 'мне',\n",
       " 'было',\n",
       " 'вот',\n",
       " 'от',\n",
       " 'меня',\n",
       " 'еще',\n",
       " 'нет',\n",
       " 'о',\n",
       " 'из',\n",
       " 'ему',\n",
       " 'теперь',\n",
       " 'когда',\n",
       " 'даже',\n",
       " 'ну',\n",
       " 'вдруг',\n",
       " 'ли',\n",
       " 'если',\n",
       " 'уже',\n",
       " 'или',\n",
       " 'ни',\n",
       " 'быть',\n",
       " 'был',\n",
       " 'него',\n",
       " 'до',\n",
       " 'вас',\n",
       " 'нибудь',\n",
       " 'опять',\n",
       " 'уж',\n",
       " 'вам',\n",
       " 'ведь',\n",
       " 'там',\n",
       " 'потом',\n",
       " 'себя',\n",
       " 'ничего',\n",
       " 'ей',\n",
       " 'может',\n",
       " 'они',\n",
       " 'тут',\n",
       " 'где',\n",
       " 'есть',\n",
       " 'надо',\n",
       " 'ней',\n",
       " 'для',\n",
       " 'мы',\n",
       " 'тебя',\n",
       " 'их',\n",
       " 'чем',\n",
       " 'была',\n",
       " 'сам',\n",
       " 'чтоб',\n",
       " 'без',\n",
       " 'будто',\n",
       " 'чего',\n",
       " 'раз',\n",
       " 'тоже',\n",
       " 'себе',\n",
       " 'под',\n",
       " 'будет',\n",
       " 'ж',\n",
       " 'тогда',\n",
       " 'кто',\n",
       " 'этот',\n",
       " 'того',\n",
       " 'потому',\n",
       " 'этого',\n",
       " 'какой',\n",
       " 'совсем',\n",
       " 'ним',\n",
       " 'здесь',\n",
       " 'этом',\n",
       " 'один',\n",
       " 'почти',\n",
       " 'мой',\n",
       " 'тем',\n",
       " 'чтобы',\n",
       " 'нее',\n",
       " 'сейчас',\n",
       " 'были',\n",
       " 'куда',\n",
       " 'зачем',\n",
       " 'всех',\n",
       " 'никогда',\n",
       " 'можно',\n",
       " 'при',\n",
       " 'наконец',\n",
       " 'два',\n",
       " 'об',\n",
       " 'другой',\n",
       " 'хоть',\n",
       " 'после',\n",
       " 'над',\n",
       " 'больше',\n",
       " 'тот',\n",
       " 'через',\n",
       " 'эти',\n",
       " 'нас',\n",
       " 'про',\n",
       " 'всего',\n",
       " 'них',\n",
       " 'какая',\n",
       " 'много',\n",
       " 'разве',\n",
       " 'три',\n",
       " 'эту',\n",
       " 'моя',\n",
       " 'впрочем',\n",
       " 'хорошо',\n",
       " 'свою',\n",
       " 'этой',\n",
       " 'перед',\n",
       " 'иногда',\n",
       " 'лучше',\n",
       " 'чуть',\n",
       " 'том',\n",
       " 'нельзя',\n",
       " 'такой',\n",
       " 'им',\n",
       " 'более',\n",
       " 'всегда',\n",
       " 'конечно',\n",
       " 'всю',\n",
       " 'между',\n",
       " 'это',\n",
       " 'як',\n",
       " 'ещё',\n",
       " 'це',\n",
       " 'але',\n",
       " 'що',\n",
       " 'nevzorovtv',\n",
       " 'com',\n",
       " 'всё',\n",
       " 'весь',\n",
       " 'наш',\n",
       " 'свой',\n",
       " 'все',\n",
       " 'https',\n",
       " 'me',\n",
       " 'которые',\n",
       " 'который',\n",
       " 'человек',\n",
       " 'год',\n",
       " 'война',\n",
       " 'мочь',\n",
       " 'фронт',\n",
       " 'противник',\n",
       " 'русский',\n",
       " 'день',\n",
       " 'время',\n",
       " 'знать',\n",
       " 'отряд',\n",
       " 'солдат',\n",
       " 'говорить',\n",
       " 'военный',\n",
       " 'россия']"
      ]
     },
     "execution_count": 38,
     "metadata": {},
     "output_type": "execute_result"
    }
   ],
   "source": [
    "# Прибрати вплив загальної теми каналів\n",
    "# додаю стоп слова найбільш популярними словами, щоб обрати головну тему\n",
    "stop_words.extend(words)\n",
    "stop_words"
   ]
  },
  {
   "cell_type": "markdown",
   "metadata": {},
   "source": [
    "Розподіл кількості постів за часом"
   ]
  },
  {
   "cell_type": "code",
   "execution_count": 39,
   "metadata": {},
   "outputs": [],
   "source": [
    "#будуємо графік постів за місяць і за 3-4 міс\n",
    "tagged_headlines = [TextBlob(reindexed_data[i]).pos_tags for i in range(reindexed_data.shape[0])]\n"
   ]
  },
  {
   "cell_type": "code",
   "execution_count": 40,
   "metadata": {},
   "outputs": [
    {
     "name": "stdout",
     "output_type": "stream",
     "text": [
      "Total number of words:  34311\n",
      "Mean number of words per headline:  48.32535211267606\n"
     ]
    }
   ],
   "source": [
    "#скілько всього у нас було слів, та середню довж поста\n",
    "tagged_headlines_df = pd.DataFrame({'tags':tagged_headlines})\n",
    "\n",
    "word_counts = [] \n",
    "pos_counts = {}\n",
    "\n",
    "for headline in tagged_headlines_df[u'tags']:\n",
    "    word_counts.append(len(headline))\n",
    "    for tag in headline:\n",
    "        if tag[1] in pos_counts:\n",
    "            pos_counts[tag[1]] += 1\n",
    "        else:\n",
    "            pos_counts[tag[1]] = 1\n",
    "            \n",
    "print('Total number of words: ', np.sum(word_counts))\n",
    "print('Mean number of words per headline: ', np.mean(word_counts))"
   ]
  },
  {
   "cell_type": "code",
   "execution_count": 41,
   "metadata": {},
   "outputs": [
    {
     "data": {
      "image/png": "[encoded data removed]",
      "text/plain": [
       "<Figure size 1800x1600 with 2 Axes>"
      ]
     },
     "metadata": {},
     "output_type": "display_data"
    }
   ],
   "source": [
    "#Перед вами розподіл постів за часом для телеграм\n",
    "reindexed_data.index = pd.to_datetime(reindexed_data.index)\n",
    "monthly_counts = reindexed_data.resample('M').count()\n",
    "daily_counts = reindexed_data.resample('D').count()\n",
    "\n",
    "fig, ax = plt.subplots(2, figsize=(18,16))\n",
    "ax[0].plot(daily_counts);\n",
    "ax[0].set_title('Daily Counts');\n",
    "ax[1].plot(monthly_counts);\n",
    "ax[1].set_title('Monthly Counts');\n",
    "plt.show()"
   ]
  },
  {
   "cell_type": "markdown",
   "metadata": {},
   "source": [
    "## Topic modelling"
   ]
  },
  {
   "cell_type": "markdown",
   "metadata": {},
   "source": [
    "Маленька вибірка - до 1000 постів \n",
    "Велика вибірка - 2000 - 4000 постів"
   ]
  },
  {
   "cell_type": "code",
   "execution_count": 42,
   "metadata": {},
   "outputs": [
    {
     "name": "stdout",
     "output_type": "stream",
     "text": [
      "Пост: и.и. стрелок гранит первый бросаться глаз человек купить цена знать лично ранее пытаться назначить сумма подкуп готовый поспорить желать немало основание сломать зуб идейность принципиальность последовательность неподкупность удивительный жёсткость жестокость важно человек знать лично прийти голова назвать милый человек невозможно договориться идти чуть-чуть вразрез представление ситуация слушать стать стрелок уметь брать ответственность бояться самый главное уметь создать вокруг структура каждый винтик знать место навести порядок хаос разграничить обязанность нарезать задача знать конкретно человек справиться зам чей-то помощник правый рука игорь иванович стрелок стопроцентный безоговорочный начальник лидер вред отстаивать правота истина момент доверять человек доверять прогорать раз. поэтому научить горький опыт учитывать возраст опыт предпочитать держать расстояние вытянутый рука замечательный качество смочь злоупотреблять крутить иметь тенденция совершать ошибка дважды трижды зарекаться каждый повторять вновь человек стрелок любить пойти разведка страшно иметь общий дело ждать нож спина честный друг верный соратник достойный враг идти победа\n",
      "Результат ембедінгу: \n",
      "  (0, 733)\t1\n",
      "  (0, 1278)\t1\n",
      "  (0, 1766)\t1\n",
      "  (0, 1250)\t2\n",
      "  (0, 3212)\t1\n",
      "  (0, 395)\t1\n",
      "  (0, 1153)\t2\n",
      "  (0, 928)\t1\n",
      "  (0, 1430)\t1\n",
      "  (0, 1922)\t1\n",
      "  (0, 2139)\t1\n",
      "  (0, 2855)\t2\n",
      "  (0, 2970)\t1\n",
      "  (0, 967)\t1\n",
      "  (0, 1619)\t1\n",
      "  (0, 831)\t1\n",
      "  (0, 1490)\t1\n",
      "  (0, 837)\t1\n",
      "  (0, 3134)\t1\n",
      "  (0, 2694)\t1\n",
      "  (0, 1472)\t2\n",
      "  (0, 1677)\t1\n",
      "  (0, 970)\t1\n",
      "  (0, 2493)\t1\n",
      "  (0, 2309)\t1\n",
      "  :\t:\n",
      "  (0, 3472)\t1\n",
      "  (0, 2767)\t1\n",
      "  (0, 691)\t1\n",
      "  (0, 1044)\t1\n",
      "  (0, 3034)\t1\n",
      "  (0, 1125)\t1\n",
      "  (0, 1414)\t1\n",
      "  (0, 3273)\t1\n",
      "  (0, 3055)\t1\n",
      "  (0, 2110)\t1\n",
      "  (0, 811)\t1\n",
      "  (0, 3324)\t1\n",
      "  (0, 1073)\t1\n",
      "  (0, 2232)\t1\n",
      "  (0, 532)\t1\n",
      "  (0, 2717)\t1\n",
      "  (0, 3190)\t1\n",
      "  (0, 1854)\t1\n",
      "  (0, 3123)\t1\n",
      "  (0, 3598)\t1\n",
      "  (0, 457)\t1\n",
      "  (0, 3091)\t1\n",
      "  (0, 919)\t1\n",
      "  (0, 600)\t1\n",
      "  (0, 2221)\t1\n"
     ]
    }
   ],
   "source": [
    "small_count_vectorizer = CountVectorizer(stop_words=stop_words, max_features=40000)\n",
    "small_text_sample = reindexed_data.sample(n=200, random_state=1).values\n",
    "\n",
    "print('Пост: {}'.format(small_text_sample[23]))\n",
    "\n",
    "small_document_term_matrix = small_count_vectorizer.fit_transform(small_text_sample)\n",
    "\n",
    "print('Результат ембедінгу: \\n{}'.format(small_document_term_matrix[23]))"
   ]
  },
  {
   "cell_type": "markdown",
   "metadata": {},
   "source": [
    "## LSA"
   ]
  },
  {
   "cell_type": "code",
   "execution_count": 43,
   "metadata": {},
   "outputs": [],
   "source": [
    "n_topics = 6\n",
    "lsa_model = TruncatedSVD(n_components=n_topics)\n",
    "lsa_topic_matrix = lsa_model.fit_transform(small_document_term_matrix)"
   ]
  },
  {
   "cell_type": "code",
   "execution_count": 44,
   "metadata": {},
   "outputs": [],
   "source": [
    "# Define helper functions\n",
    "def get_keys(topic_matrix):\n",
    "    '''\n",
    "    returns an integer list of predicted topic \n",
    "    categories for a given topic matrix\n",
    "    '''\n",
    "    keys = topic_matrix.argmax(axis=1).tolist()\n",
    "    return keys\n",
    "\n",
    "def keys_to_counts(keys):\n",
    "    '''\n",
    "    returns a tuple of topic categories and their \n",
    "    accompanying magnitudes for a given list of keys\n",
    "    '''\n",
    "    count_pairs = Counter(keys).items()\n",
    "    categories = [pair[0] for pair in count_pairs]\n",
    "    counts = [pair[1] for pair in count_pairs]\n",
    "    return (categories, counts)\n",
    "\n"
   ]
  },
  {
   "cell_type": "code",
   "execution_count": 45,
   "metadata": {},
   "outputs": [],
   "source": [
    "lsa_keys = get_keys(lsa_topic_matrix)\n",
    "lsa_categories, lsa_counts = keys_to_counts(lsa_keys)"
   ]
  },
  {
   "cell_type": "code",
   "execution_count": 46,
   "metadata": {},
   "outputs": [],
   "source": [
    "# Define helper functions\n",
    "def get_top_n_words(n, keys, document_term_matrix, count_vectorizer, n_topics ):\n",
    "    '''\n",
    "    returns a list of n_topic strings, where each string contains the n most common \n",
    "    words in a predicted category, in order\n",
    "    '''\n",
    "    top_word_indices = []\n",
    "    for topic in range(n_topics):\n",
    "        temp_vector_sum = 0\n",
    "        for i in range(len(keys)):\n",
    "            if keys[i] == topic:\n",
    "                temp_vector_sum += document_term_matrix[i]\n",
    "        temp_vector_sum = temp_vector_sum.toarray()\n",
    "        top_n_word_indices = np.flip(np.argsort(temp_vector_sum)[0][-n:],0)\n",
    "        top_word_indices.append(top_n_word_indices)   \n",
    "    top_words = []\n",
    "    for topic in top_word_indices:\n",
    "        topic_words = []\n",
    "        for index in topic:\n",
    "            temp_word_vector = np.zeros((1,document_term_matrix.shape[1]))\n",
    "            temp_word_vector[:,index] = 1\n",
    "            the_word = count_vectorizer.inverse_transform(temp_word_vector)[0][0]\n",
    "            topic_words.append(the_word)\n",
    "        top_words.append(\" \".join(topic_words))         \n",
    "    return top_words"
   ]
  },
  {
   "cell_type": "code",
   "execution_count": 47,
   "metadata": {},
   "outputs": [
    {
     "ename": "AttributeError",
     "evalue": "'int' object has no attribute 'toarray'",
     "output_type": "error",
     "traceback": [
      "\u001b[1;31m---------------------------------------------------------------------------\u001b[0m",
      "\u001b[1;31mAttributeError\u001b[0m                            Traceback (most recent call last)",
      "Cell \u001b[1;32mIn[47], line 2\u001b[0m\n\u001b[0;32m      1\u001b[0m \u001b[39m#тема представлена н словами, тут я задаю н та будую тучку\u001b[39;00m\n\u001b[1;32m----> 2\u001b[0m top_n_words_lsa \u001b[39m=\u001b[39m get_top_n_words(\u001b[39m3\u001b[39;49m, lsa_keys, small_document_term_matrix, small_count_vectorizer, n_topics)\n\u001b[0;32m      4\u001b[0m \u001b[39mfor\u001b[39;00m i \u001b[39min\u001b[39;00m \u001b[39mrange\u001b[39m(\u001b[39mlen\u001b[39m(top_n_words_lsa)):\n\u001b[0;32m      5\u001b[0m     \u001b[39mprint\u001b[39m(\u001b[39m\"\u001b[39m\u001b[39mTopic \u001b[39m\u001b[39m{}\u001b[39;00m\u001b[39m: \u001b[39m\u001b[39m\"\u001b[39m\u001b[39m.\u001b[39mformat(i\u001b[39m+\u001b[39m\u001b[39m1\u001b[39m), top_n_words_lsa[i])\n",
      "Cell \u001b[1;32mIn[46], line 13\u001b[0m, in \u001b[0;36mget_top_n_words\u001b[1;34m(n, keys, document_term_matrix, count_vectorizer, n_topics)\u001b[0m\n\u001b[0;32m     11\u001b[0m     \u001b[39mif\u001b[39;00m keys[i] \u001b[39m==\u001b[39m topic:\n\u001b[0;32m     12\u001b[0m         temp_vector_sum \u001b[39m+\u001b[39m\u001b[39m=\u001b[39m document_term_matrix[i]\n\u001b[1;32m---> 13\u001b[0m temp_vector_sum \u001b[39m=\u001b[39m temp_vector_sum\u001b[39m.\u001b[39;49mtoarray()\n\u001b[0;32m     14\u001b[0m top_n_word_indices \u001b[39m=\u001b[39m np\u001b[39m.\u001b[39mflip(np\u001b[39m.\u001b[39margsort(temp_vector_sum)[\u001b[39m0\u001b[39m][\u001b[39m-\u001b[39mn:],\u001b[39m0\u001b[39m)\n\u001b[0;32m     15\u001b[0m top_word_indices\u001b[39m.\u001b[39mappend(top_n_word_indices)   \n",
      "\u001b[1;31mAttributeError\u001b[0m: 'int' object has no attribute 'toarray'"
     ]
    }
   ],
   "source": [
    "#тема представлена н словами, тут я задаю н та будую тучку\n",
    "top_n_words_lsa = get_top_n_words(3, lsa_keys, small_document_term_matrix, small_count_vectorizer, n_topics)\n",
    "\n",
    "for i in range(len(top_n_words_lsa)):\n",
    "    print(\"Topic {}: \".format(i+1), top_n_words_lsa[i])"
   ]
  },
  {
   "cell_type": "code",
   "execution_count": 48,
   "metadata": {},
   "outputs": [
    {
     "ename": "AttributeError",
     "evalue": "'int' object has no attribute 'toarray'",
     "output_type": "error",
     "traceback": [
      "\u001b[1;31m---------------------------------------------------------------------------\u001b[0m",
      "\u001b[1;31mAttributeError\u001b[0m                            Traceback (most recent call last)",
      "Cell \u001b[1;32mIn[48], line 2\u001b[0m\n\u001b[0;32m      1\u001b[0m \u001b[39m#графік розподілу постів за темами\u001b[39;00m\n\u001b[1;32m----> 2\u001b[0m top_3_words \u001b[39m=\u001b[39m get_top_n_words(\u001b[39m3\u001b[39;49m, lsa_keys, small_document_term_matrix, small_count_vectorizer, n_topics)\n\u001b[0;32m      3\u001b[0m labels \u001b[39m=\u001b[39m [\u001b[39m'\u001b[39m\u001b[39mTема \u001b[39m\u001b[39m{}\u001b[39;00m\u001b[39m: \u001b[39m\u001b[39m\\n\u001b[39;00m\u001b[39m'\u001b[39m\u001b[39m.\u001b[39mformat(i\u001b[39m+\u001b[39m\u001b[39m1\u001b[39m) \u001b[39m+\u001b[39m top_3_words[i] \u001b[39mfor\u001b[39;00m i \u001b[39min\u001b[39;00m lsa_categories]\n\u001b[0;32m      5\u001b[0m fig, ax \u001b[39m=\u001b[39m plt\u001b[39m.\u001b[39msubplots(figsize\u001b[39m=\u001b[39m(\u001b[39m16\u001b[39m,\u001b[39m18\u001b[39m))\n",
      "Cell \u001b[1;32mIn[46], line 13\u001b[0m, in \u001b[0;36mget_top_n_words\u001b[1;34m(n, keys, document_term_matrix, count_vectorizer, n_topics)\u001b[0m\n\u001b[0;32m     11\u001b[0m     \u001b[39mif\u001b[39;00m keys[i] \u001b[39m==\u001b[39m topic:\n\u001b[0;32m     12\u001b[0m         temp_vector_sum \u001b[39m+\u001b[39m\u001b[39m=\u001b[39m document_term_matrix[i]\n\u001b[1;32m---> 13\u001b[0m temp_vector_sum \u001b[39m=\u001b[39m temp_vector_sum\u001b[39m.\u001b[39;49mtoarray()\n\u001b[0;32m     14\u001b[0m top_n_word_indices \u001b[39m=\u001b[39m np\u001b[39m.\u001b[39mflip(np\u001b[39m.\u001b[39margsort(temp_vector_sum)[\u001b[39m0\u001b[39m][\u001b[39m-\u001b[39mn:],\u001b[39m0\u001b[39m)\n\u001b[0;32m     15\u001b[0m top_word_indices\u001b[39m.\u001b[39mappend(top_n_word_indices)   \n",
      "\u001b[1;31mAttributeError\u001b[0m: 'int' object has no attribute 'toarray'"
     ]
    }
   ],
   "source": [
    "#графік розподілу постів за темами\n",
    "top_3_words = get_top_n_words(3, lsa_keys, small_document_term_matrix, small_count_vectorizer, n_topics)\n",
    "labels = ['Tема {}: \\n'.format(i+1) + top_3_words[i] for i in lsa_categories]\n",
    "\n",
    "fig, ax = plt.subplots(figsize=(16,18))\n",
    "ax.bar(lsa_categories, lsa_counts);\n",
    "ax.set_xticks(lsa_categories);\n",
    "ax.set_xticklabels(labels);\n",
    "ax.set_ylabel('Number of headlines');\n",
    "ax.set_title('LSA topic counts');\n",
    "plt.xticks(rotation = 35) \n",
    "plt.show()"
   ]
  },
  {
   "cell_type": "markdown",
   "metadata": {},
   "source": [
    "Візуалізація з t-sne"
   ]
  },
  {
   "cell_type": "code",
   "execution_count": 49,
   "metadata": {},
   "outputs": [
    {
     "name": "stdout",
     "output_type": "stream",
     "text": [
      "[t-SNE] Computing 151 nearest neighbors...\n",
      "[t-SNE] Indexed 200 samples in 0.000s...\n",
      "[t-SNE] Computed neighbors for 200 samples in 0.103s...\n",
      "[t-SNE] Computed conditional probabilities for sample 200 / 200\n",
      "[t-SNE] Mean sigma: 0.148617\n",
      "[t-SNE] KL divergence after 250 iterations with early exaggeration: 52.992016\n",
      "[t-SNE] KL divergence after 700 iterations: 0.277996\n"
     ]
    }
   ],
   "source": [
    "tsne_lsa_model = TSNE(n_components=2, perplexity=50, learning_rate=100, \n",
    "                        n_iter=2000, verbose=1, random_state=0, angle=0.75)\n",
    "tsne_lsa_vectors = tsne_lsa_model.fit_transform(lsa_topic_matrix)"
   ]
  },
  {
   "cell_type": "code",
   "execution_count": 50,
   "metadata": {},
   "outputs": [],
   "source": [
    "# Define helper functions, класифікація для того щоб візуалізувати преналежність постів темі\n",
    "def get_mean_topic_vectors(keys, two_dim_vectors):\n",
    "    '''\n",
    "    returns a list of centroid vectors from each predicted topic category\n",
    "    '''\n",
    "    mean_topic_vectors = []\n",
    "    for t in range(n_topics):\n",
    "        articles_in_that_topic = []\n",
    "        for i in range(len(keys)):\n",
    "            if keys[i] == t:\n",
    "                articles_in_that_topic.append(two_dim_vectors[i])    \n",
    "        \n",
    "        articles_in_that_topic = np.vstack(articles_in_that_topic)\n",
    "        mean_article_in_that_topic = np.mean(articles_in_that_topic, axis=0)\n",
    "        mean_topic_vectors.append(mean_article_in_that_topic)\n",
    "    return mean_topic_vectors"
   ]
  },
  {
   "cell_type": "code",
   "execution_count": 51,
   "metadata": {},
   "outputs": [],
   "source": [
    "colormap = np.array([\n",
    "    \"#1f77b4\",\"#dbdb8d\", \"#aec7e8\", \"#17becf\", \"#ff7f0e\", \"#ffbb78\",  \"#9edae5\", \"#2ca02c\",\n",
    "    \"#98df8a\", \"#d62728\", \"#ff9896\", \"#9467bd\", \"#c5b0d5\",\n",
    "    \"#8c564b\", \"#c49c94\", \"#e377c2\", \"#f7b6d2\", \"#7f7f7f\",\n",
    "    \"#c7c7c7\", \"#bcbd22\" ])\n",
    "colormap = colormap[:n_topics]"
   ]
  },
  {
   "cell_type": "code",
   "execution_count": 52,
   "metadata": {},
   "outputs": [
    {
     "ename": "AttributeError",
     "evalue": "'int' object has no attribute 'toarray'",
     "output_type": "error",
     "traceback": [
      "\u001b[1;31m---------------------------------------------------------------------------\u001b[0m",
      "\u001b[1;31mAttributeError\u001b[0m                            Traceback (most recent call last)",
      "Cell \u001b[1;32mIn[52], line 1\u001b[0m\n\u001b[1;32m----> 1\u001b[0m top_3_words_lsa \u001b[39m=\u001b[39m get_top_n_words(\u001b[39m3\u001b[39;49m, lsa_keys, small_document_term_matrix, small_count_vectorizer,n_topics)\n\u001b[0;32m      2\u001b[0m lsa_mean_topic_vectors \u001b[39m=\u001b[39m get_mean_topic_vectors(lsa_keys, tsne_lsa_vectors)\n\u001b[0;32m      4\u001b[0m plot \u001b[39m=\u001b[39m figure(title\u001b[39m=\u001b[39m\u001b[39m\"\u001b[39m\u001b[39mt-SNE Clustering of \u001b[39m\u001b[39m{}\u001b[39;00m\u001b[39m LSA Topics\u001b[39m\u001b[39m\"\u001b[39m\u001b[39m.\u001b[39mformat(n_topics), width\u001b[39m=\u001b[39m\u001b[39m700\u001b[39m, height\u001b[39m=\u001b[39m\u001b[39m700\u001b[39m)\n",
      "Cell \u001b[1;32mIn[46], line 13\u001b[0m, in \u001b[0;36mget_top_n_words\u001b[1;34m(n, keys, document_term_matrix, count_vectorizer, n_topics)\u001b[0m\n\u001b[0;32m     11\u001b[0m     \u001b[39mif\u001b[39;00m keys[i] \u001b[39m==\u001b[39m topic:\n\u001b[0;32m     12\u001b[0m         temp_vector_sum \u001b[39m+\u001b[39m\u001b[39m=\u001b[39m document_term_matrix[i]\n\u001b[1;32m---> 13\u001b[0m temp_vector_sum \u001b[39m=\u001b[39m temp_vector_sum\u001b[39m.\u001b[39;49mtoarray()\n\u001b[0;32m     14\u001b[0m top_n_word_indices \u001b[39m=\u001b[39m np\u001b[39m.\u001b[39mflip(np\u001b[39m.\u001b[39margsort(temp_vector_sum)[\u001b[39m0\u001b[39m][\u001b[39m-\u001b[39mn:],\u001b[39m0\u001b[39m)\n\u001b[0;32m     15\u001b[0m top_word_indices\u001b[39m.\u001b[39mappend(top_n_word_indices)   \n",
      "\u001b[1;31mAttributeError\u001b[0m: 'int' object has no attribute 'toarray'"
     ]
    }
   ],
   "source": [
    "top_3_words_lsa = get_top_n_words(3, lsa_keys, small_document_term_matrix, small_count_vectorizer,n_topics)\n",
    "lsa_mean_topic_vectors = get_mean_topic_vectors(lsa_keys, tsne_lsa_vectors)\n",
    "\n",
    "plot = figure(title=\"t-SNE Clustering of {} LSA Topics\".format(n_topics), width=700, height=700)\n",
    "plot.scatter(x=tsne_lsa_vectors[:,0], y=tsne_lsa_vectors[:,1], color=colormap[lsa_keys])\n",
    "\n",
    "for t in range(n_topics):\n",
    "    label = Label(x=lsa_mean_topic_vectors[t][0], y=lsa_mean_topic_vectors[t][1], \n",
    "                text=top_3_words_lsa[t], text_color=colormap[t])\n",
    "    plot.add_layout(label)\n",
    "    \n",
    "show(plot)"
   ]
  },
  {
   "cell_type": "markdown",
   "metadata": {},
   "source": [
    "## Lda"
   ]
  },
  {
   "cell_type": "code",
   "execution_count": 53,
   "metadata": {},
   "outputs": [],
   "source": [
    "lda_model = LatentDirichletAllocation(n_components=n_topics, learning_method='online', \n",
    "                                          random_state=0, verbose=0)\n",
    "lda_topic_matrix = lda_model.fit_transform(small_document_term_matrix)"
   ]
  },
  {
   "cell_type": "code",
   "execution_count": 54,
   "metadata": {},
   "outputs": [],
   "source": [
    "lda_keys = get_keys(lda_topic_matrix)\n",
    "lda_categories, lda_counts = keys_to_counts(lda_keys)"
   ]
  },
  {
   "cell_type": "code",
   "execution_count": 55,
   "metadata": {},
   "outputs": [
    {
     "name": "stdout",
     "output_type": "stream",
     "text": [
      "Topic 1:  помощь кцпн боевой\n",
      "Topic 2:  очень видео солдатский\n",
      "Topic 3:  район бой удар\n",
      "Topic 4:  нужно правда думать\n",
      "Topic 5:  михаил 2022 слово\n",
      "Topic 6:  хороший кцпн доброволец\n"
     ]
    }
   ],
   "source": [
    "top_n_words_lda = get_top_n_words(3, lda_keys, small_document_term_matrix, small_count_vectorizer,n_topics)\n",
    "\n",
    "for i in range(len(top_n_words_lda)):\n",
    "    print(\"Topic {}: \".format(i+1), top_n_words_lda[i])"
   ]
  },
  {
   "cell_type": "code",
   "execution_count": 56,
   "metadata": {},
   "outputs": [
    {
     "data": {
      "text/plain": [
       "(array([3, 2, 4, 1, 0, 5]),\n",
       " [Text(3, 0, 'Tема 4: \\nнужно правда думать нога земля'),\n",
       "  Text(2, 0, 'Tема 3: \\nрайон бой удар войско направление'),\n",
       "  Text(4, 0, 'Tема 5: \\nмихаил 2022 слово карта сказать'),\n",
       "  Text(1, 0, 'Tема 2: \\nочень видео солдатский канал дневник'),\n",
       "  Text(0, 0, 'Tема 1: \\nпомощь кцпн боевой очень работать'),\n",
       "  Text(5, 0, 'Tема 6: \\nхороший кцпн доброволец разный самый')])"
      ]
     },
     "execution_count": 56,
     "metadata": {},
     "output_type": "execute_result"
    },
    {
     "data": {
      "image/png": "[encoded data removed]",
      "text/plain": [
       "<Figure size 1600x800 with 1 Axes>"
      ]
     },
     "metadata": {},
     "output_type": "display_data"
    }
   ],
   "source": [
    "top_3_words = get_top_n_words(5, lda_keys, small_document_term_matrix, small_count_vectorizer, n_topics)\n",
    "labels = ['Tема {}: \\n'.format(i+1) + top_3_words[i] for i in lda_categories]\n",
    "\n",
    "fig, ax = plt.subplots(figsize=(16,8))\n",
    "ax.bar(lda_categories, lda_counts);\n",
    "ax.set_xticks(lda_categories);\n",
    "ax.set_xticklabels(labels);\n",
    "ax.set_title('LDA тема');\n",
    "ax.set_ylabel('Кількість постів');\n",
    "plt.xticks(rotation = 35) "
   ]
  },
  {
   "cell_type": "code",
   "execution_count": 57,
   "metadata": {},
   "outputs": [
    {
     "data": {
      "text/plain": [
       "['Tема 4: \\nнужно правда думать нога земля',\n",
       " 'Tема 3: \\nрайон бой удар войско направление',\n",
       " 'Tема 5: \\nмихаил 2022 слово карта сказать',\n",
       " 'Tема 2: \\nочень видео солдатский канал дневник',\n",
       " 'Tема 1: \\nпомощь кцпн боевой очень работать',\n",
       " 'Tема 6: \\nхороший кцпн доброволец разный самый']"
      ]
     },
     "execution_count": 57,
     "metadata": {},
     "output_type": "execute_result"
    }
   ],
   "source": [
    "labels"
   ]
  },
  {
   "cell_type": "code",
   "execution_count": 58,
   "metadata": {},
   "outputs": [
    {
     "name": "stdout",
     "output_type": "stream",
     "text": [
      "[t-SNE] Computing 151 nearest neighbors...\n",
      "[t-SNE] Indexed 200 samples in 0.000s...\n",
      "[t-SNE] Computed neighbors for 200 samples in 0.005s...\n",
      "[t-SNE] Computed conditional probabilities for sample 200 / 200\n",
      "[t-SNE] Mean sigma: 0.614687\n",
      "[t-SNE] KL divergence after 250 iterations with early exaggeration: 51.371841\n",
      "[t-SNE] KL divergence after 1450 iterations: 0.039726\n"
     ]
    }
   ],
   "source": [
    "tsne_lda_model = TSNE(n_components=2, perplexity=50, learning_rate=100, \n",
    "                        n_iter=2000, verbose=1, random_state=0, angle=0.75)\n",
    "tsne_lda_vectors = tsne_lda_model.fit_transform(lda_topic_matrix)"
   ]
  },
  {
   "cell_type": "code",
   "execution_count": 59,
   "metadata": {},
   "outputs": [],
   "source": [
    "top_3_words_lda = get_top_n_words(3, lda_keys, small_document_term_matrix, small_count_vectorizer, n_topics)\n",
    "lda_mean_topic_vectors = get_mean_topic_vectors(lda_keys, tsne_lda_vectors)\n",
    "\n",
    "plot = figure(title=\"t-SNE Clustering of {} LDA Topics\".format(n_topics), width=700, height=700)\n",
    "plot.scatter(x=tsne_lda_vectors[:,0], y=tsne_lda_vectors[:,1], color=colormap[lda_keys])\n",
    "\n",
    "for t in range(n_topics):\n",
    "    label = Label(x=lda_mean_topic_vectors[t][0], y=lda_mean_topic_vectors[t][1], \n",
    "                  text=top_3_words_lda[t], text_color=colormap[t])\n",
    "    plot.add_layout(label)\n",
    "\n",
    "show(plot)"
   ]
  },
  {
   "cell_type": "code",
   "execution_count": 60,
   "metadata": {},
   "outputs": [],
   "source": [
    "reindexed_data = reindexed_data.dropna()"
   ]
  },
  {
   "cell_type": "markdown",
   "metadata": {},
   "source": [
    "## LDA, велика вибірка, візуалізація через heatmap"
   ]
  },
  {
   "cell_type": "code",
   "execution_count": 61,
   "metadata": {},
   "outputs": [
    {
     "ename": "ValueError",
     "evalue": "Cannot take a larger sample than population when 'replace=False'",
     "output_type": "error",
     "traceback": [
      "\u001b[1;31m---------------------------------------------------------------------------\u001b[0m",
      "\u001b[1;31mValueError\u001b[0m                                Traceback (most recent call last)",
      "Cell \u001b[1;32mIn[61], line 4\u001b[0m\n\u001b[0;32m      2\u001b[0m n \u001b[39m=\u001b[39m \u001b[39m10\u001b[39m\n\u001b[0;32m      3\u001b[0m big_count_vectorizer \u001b[39m=\u001b[39m CountVectorizer(stop_words\u001b[39m=\u001b[39mstop_words, max_features\u001b[39m=\u001b[39m\u001b[39m40000\u001b[39m)\n\u001b[1;32m----> 4\u001b[0m big_text_sample \u001b[39m=\u001b[39m reindexed_data\u001b[39m.\u001b[39;49msample(n\u001b[39m=\u001b[39;49mbig_sample_size, random_state\u001b[39m=\u001b[39;49m\u001b[39m1\u001b[39;49m)\u001b[39m.\u001b[39mvalues\n\u001b[0;32m      5\u001b[0m big_document_term_matrix \u001b[39m=\u001b[39m big_count_vectorizer\u001b[39m.\u001b[39mfit_transform(big_text_sample)\n\u001b[0;32m      9\u001b[0m big_lda_model \u001b[39m=\u001b[39m LatentDirichletAllocation(n_components\u001b[39m=\u001b[39mn, learning_method\u001b[39m=\u001b[39m\u001b[39m'\u001b[39m\u001b[39monline\u001b[39m\u001b[39m'\u001b[39m, \n\u001b[0;32m     10\u001b[0m                                           random_state\u001b[39m=\u001b[39m\u001b[39m3\u001b[39m, verbose\u001b[39m=\u001b[39m\u001b[39m0\u001b[39m)\n",
      "File \u001b[1;32m~\\AppData\\Local\\Packages\\PythonSoftwareFoundation.Python.3.10_qbz5n2kfra8p0\\LocalCache\\local-packages\\Python310\\site-packages\\pandas\\core\\generic.py:5773\u001b[0m, in \u001b[0;36mNDFrame.sample\u001b[1;34m(self, n, frac, replace, weights, random_state, axis, ignore_index)\u001b[0m\n\u001b[0;32m   5770\u001b[0m \u001b[39mif\u001b[39;00m weights \u001b[39mis\u001b[39;00m \u001b[39mnot\u001b[39;00m \u001b[39mNone\u001b[39;00m:\n\u001b[0;32m   5771\u001b[0m     weights \u001b[39m=\u001b[39m sample\u001b[39m.\u001b[39mpreprocess_weights(\u001b[39mself\u001b[39m, weights, axis)\n\u001b[1;32m-> 5773\u001b[0m sampled_indices \u001b[39m=\u001b[39m sample\u001b[39m.\u001b[39;49msample(obj_len, size, replace, weights, rs)\n\u001b[0;32m   5774\u001b[0m result \u001b[39m=\u001b[39m \u001b[39mself\u001b[39m\u001b[39m.\u001b[39mtake(sampled_indices, axis\u001b[39m=\u001b[39maxis)\n\u001b[0;32m   5776\u001b[0m \u001b[39mif\u001b[39;00m ignore_index:\n",
      "File \u001b[1;32m~\\AppData\\Local\\Packages\\PythonSoftwareFoundation.Python.3.10_qbz5n2kfra8p0\\LocalCache\\local-packages\\Python310\\site-packages\\pandas\\core\\sample.py:150\u001b[0m, in \u001b[0;36msample\u001b[1;34m(obj_len, size, replace, weights, random_state)\u001b[0m\n\u001b[0;32m    147\u001b[0m     \u001b[39melse\u001b[39;00m:\n\u001b[0;32m    148\u001b[0m         \u001b[39mraise\u001b[39;00m \u001b[39mValueError\u001b[39;00m(\u001b[39m\"\u001b[39m\u001b[39mInvalid weights: weights sum to zero\u001b[39m\u001b[39m\"\u001b[39m)\n\u001b[1;32m--> 150\u001b[0m \u001b[39mreturn\u001b[39;00m random_state\u001b[39m.\u001b[39;49mchoice(obj_len, size\u001b[39m=\u001b[39;49msize, replace\u001b[39m=\u001b[39;49mreplace, p\u001b[39m=\u001b[39;49mweights)\u001b[39m.\u001b[39mastype(\n\u001b[0;32m    151\u001b[0m     np\u001b[39m.\u001b[39mintp, copy\u001b[39m=\u001b[39m\u001b[39mFalse\u001b[39;00m\n\u001b[0;32m    152\u001b[0m )\n",
      "File \u001b[1;32mmtrand.pyx:965\u001b[0m, in \u001b[0;36mnumpy.random.mtrand.RandomState.choice\u001b[1;34m()\u001b[0m\n",
      "\u001b[1;31mValueError\u001b[0m: Cannot take a larger sample than population when 'replace=False'"
     ]
    }
   ],
   "source": [
    "big_sample_size = 800\n",
    "n = 10\n",
    "big_count_vectorizer = CountVectorizer(stop_words=stop_words, max_features=40000)\n",
    "big_text_sample = reindexed_data.sample(n=big_sample_size, random_state=1).values\n",
    "big_document_term_matrix = big_count_vectorizer.fit_transform(big_text_sample)\n",
    "\n",
    "\n",
    "\n",
    "big_lda_model = LatentDirichletAllocation(n_components=n, learning_method='online', \n",
    "                                          random_state=3, verbose=0)\n",
    "#big_lda_model.fit(big_document_term_matrix);\n",
    "lda_topic_matrix = big_lda_model.fit_transform(big_document_term_matrix)\n",
    "\n",
    "lda_keys = get_keys(lda_topic_matrix)\n",
    "lda_categories, lda_counts = keys_to_counts(lda_keys)\n",
    "\n"
   ]
  },
  {
   "cell_type": "code",
   "execution_count": 62,
   "metadata": {},
   "outputs": [
    {
     "ename": "NameError",
     "evalue": "name 'big_document_term_matrix' is not defined",
     "output_type": "error",
     "traceback": [
      "\u001b[1;31m---------------------------------------------------------------------------\u001b[0m",
      "\u001b[1;31mNameError\u001b[0m                                 Traceback (most recent call last)",
      "Cell \u001b[1;32mIn[62], line 1\u001b[0m\n\u001b[1;32m----> 1\u001b[0m top_3_words \u001b[39m=\u001b[39m get_top_n_words(\u001b[39m3\u001b[39m, lda_keys, big_document_term_matrix, big_count_vectorizer,n)\n\u001b[0;32m      2\u001b[0m labels \u001b[39m=\u001b[39m [\u001b[39m'\u001b[39m\u001b[39mTopic \u001b[39m\u001b[39m{}\u001b[39;00m\u001b[39m: \u001b[39m\u001b[39m\\n\u001b[39;00m\u001b[39m'\u001b[39m\u001b[39m.\u001b[39mformat(i\u001b[39m+\u001b[39m\u001b[39m1\u001b[39m) \u001b[39m+\u001b[39m top_3_words[i] \u001b[39mfor\u001b[39;00m i \u001b[39min\u001b[39;00m lda_categories]\n\u001b[0;32m      4\u001b[0m fig, ax \u001b[39m=\u001b[39m plt\u001b[39m.\u001b[39msubplots(figsize\u001b[39m=\u001b[39m(\u001b[39m16\u001b[39m,\u001b[39m8\u001b[39m))\n",
      "\u001b[1;31mNameError\u001b[0m: name 'big_document_term_matrix' is not defined"
     ]
    }
   ],
   "source": [
    "top_3_words = get_top_n_words(3, lda_keys, big_document_term_matrix, big_count_vectorizer,n)\n",
    "labels = ['Topic {}: \\n'.format(i+1) + top_3_words[i] for i in lda_categories]\n",
    "\n",
    "fig, ax = plt.subplots(figsize=(16,8))\n",
    "ax.bar(lda_categories, lda_counts);\n",
    "ax.set_xticks(lda_categories);\n",
    "ax.set_xticklabels(labels);\n",
    "ax.set_title('LDA тема');\n",
    "ax.set_ylabel('Кількість постів');\n",
    "plt.xticks(rotation = 35) "
   ]
  },
  {
   "cell_type": "code",
   "execution_count": 63,
   "metadata": {},
   "outputs": [],
   "source": [
    "def keys_to_counts2(keys,n):\n",
    "    '''\n",
    "    returns a tuple of topic categories and their \n",
    "    accompanying magnitudes for a given list of keys\n",
    "    '''\n",
    "    count_pairs = Counter(keys).items()\n",
    "    dict = {pair[0]:pair[1] for pair in count_pairs}\n",
    "    counts, categories = [],[]\n",
    "    for i in range(0,n):\n",
    "        if i in dict:\n",
    "            counts.append(dict[i])\n",
    "            categories.append(i)\n",
    "        else:\n",
    "            counts.append(0)\n",
    "            categories.append(i)\n",
    "    return (categories, counts)"
   ]
  },
  {
   "cell_type": "code",
   "execution_count": 64,
   "metadata": {},
   "outputs": [],
   "source": [
    "def plot_heatmap_by_month(month, data, vectorizer):\n",
    "    month_data = []\n",
    "    n = 10\n",
    "    d = data[data.index.month== month]\n",
    "    for i in range(1,30):\n",
    "        month_data.append(d[d.index.day == i].values)\n",
    "\n",
    "    month_topic_matrices = []\n",
    "    for m in month_data:\n",
    "        document_term_matrix = vectorizer.transform(m)\n",
    "        topic_matrix = big_lda_model.transform(document_term_matrix)\n",
    "        month_topic_matrices.append(topic_matrix)\n",
    "\n",
    "    month_keys = []\n",
    "    for topic_matrix in month_topic_matrices:\n",
    "        month_keys.append(get_keys(topic_matrix))\n",
    "    month_counts = []\n",
    "    for keys in month_keys:\n",
    "        categories, counts = keys_to_counts2(keys,  n)\n",
    "        month_counts.append(counts)\n",
    "        \n",
    "\n",
    "    topic_counts = pd.DataFrame(np.array(month_counts), index=range(1,30))\n",
    "    topic_counts.columns = ['Topic {}'.format(i+1) for i in range(n)]\n",
    "\n",
    "    return topic_counts\n"
   ]
  },
  {
   "cell_type": "code",
   "execution_count": 65,
   "metadata": {},
   "outputs": [
    {
     "ename": "NotFittedError",
     "evalue": "Vocabulary not fitted or provided",
     "output_type": "error",
     "traceback": [
      "\u001b[1;31m---------------------------------------------------------------------------\u001b[0m",
      "\u001b[1;31mNotFittedError\u001b[0m                            Traceback (most recent call last)",
      "Cell \u001b[1;32mIn[65], line 1\u001b[0m\n\u001b[1;32m----> 1\u001b[0m month_topic_counts \u001b[39m=\u001b[39m plot_heatmap_by_month(\u001b[39m9\u001b[39;49m,reindexed_data,  big_count_vectorizer)\n\u001b[0;32m      2\u001b[0m month_topic_counts\n",
      "Cell \u001b[1;32mIn[64], line 10\u001b[0m, in \u001b[0;36mplot_heatmap_by_month\u001b[1;34m(month, data, vectorizer)\u001b[0m\n\u001b[0;32m      8\u001b[0m month_topic_matrices \u001b[39m=\u001b[39m []\n\u001b[0;32m      9\u001b[0m \u001b[39mfor\u001b[39;00m m \u001b[39min\u001b[39;00m month_data:\n\u001b[1;32m---> 10\u001b[0m     document_term_matrix \u001b[39m=\u001b[39m vectorizer\u001b[39m.\u001b[39;49mtransform(m)\n\u001b[0;32m     11\u001b[0m     topic_matrix \u001b[39m=\u001b[39m big_lda_model\u001b[39m.\u001b[39mtransform(document_term_matrix)\n\u001b[0;32m     12\u001b[0m     month_topic_matrices\u001b[39m.\u001b[39mappend(topic_matrix)\n",
      "File \u001b[1;32m~\\AppData\\Local\\Packages\\PythonSoftwareFoundation.Python.3.10_qbz5n2kfra8p0\\LocalCache\\local-packages\\Python310\\site-packages\\sklearn\\feature_extraction\\text.py:1419\u001b[0m, in \u001b[0;36mCountVectorizer.transform\u001b[1;34m(self, raw_documents)\u001b[0m\n\u001b[0;32m   1415\u001b[0m \u001b[39mif\u001b[39;00m \u001b[39misinstance\u001b[39m(raw_documents, \u001b[39mstr\u001b[39m):\n\u001b[0;32m   1416\u001b[0m     \u001b[39mraise\u001b[39;00m \u001b[39mValueError\u001b[39;00m(\n\u001b[0;32m   1417\u001b[0m         \u001b[39m\"\u001b[39m\u001b[39mIterable over raw text documents expected, string object received.\u001b[39m\u001b[39m\"\u001b[39m\n\u001b[0;32m   1418\u001b[0m     )\n\u001b[1;32m-> 1419\u001b[0m \u001b[39mself\u001b[39;49m\u001b[39m.\u001b[39;49m_check_vocabulary()\n\u001b[0;32m   1421\u001b[0m \u001b[39m# use the same matrix-building strategy as fit_transform\u001b[39;00m\n\u001b[0;32m   1422\u001b[0m _, X \u001b[39m=\u001b[39m \u001b[39mself\u001b[39m\u001b[39m.\u001b[39m_count_vocab(raw_documents, fixed_vocab\u001b[39m=\u001b[39m\u001b[39mTrue\u001b[39;00m)\n",
      "File \u001b[1;32m~\\AppData\\Local\\Packages\\PythonSoftwareFoundation.Python.3.10_qbz5n2kfra8p0\\LocalCache\\local-packages\\Python310\\site-packages\\sklearn\\feature_extraction\\text.py:510\u001b[0m, in \u001b[0;36m_VectorizerMixin._check_vocabulary\u001b[1;34m(self)\u001b[0m\n\u001b[0;32m    508\u001b[0m     \u001b[39mself\u001b[39m\u001b[39m.\u001b[39m_validate_vocabulary()\n\u001b[0;32m    509\u001b[0m     \u001b[39mif\u001b[39;00m \u001b[39mnot\u001b[39;00m \u001b[39mself\u001b[39m\u001b[39m.\u001b[39mfixed_vocabulary_:\n\u001b[1;32m--> 510\u001b[0m         \u001b[39mraise\u001b[39;00m NotFittedError(\u001b[39m\"\u001b[39m\u001b[39mVocabulary not fitted or provided\u001b[39m\u001b[39m\"\u001b[39m)\n\u001b[0;32m    512\u001b[0m \u001b[39mif\u001b[39;00m \u001b[39mlen\u001b[39m(\u001b[39mself\u001b[39m\u001b[39m.\u001b[39mvocabulary_) \u001b[39m==\u001b[39m \u001b[39m0\u001b[39m:\n\u001b[0;32m    513\u001b[0m     \u001b[39mraise\u001b[39;00m \u001b[39mValueError\u001b[39;00m(\u001b[39m\"\u001b[39m\u001b[39mVocabulary is empty\u001b[39m\u001b[39m\"\u001b[39m)\n",
      "\u001b[1;31mNotFittedError\u001b[0m: Vocabulary not fitted or provided"
     ]
    }
   ],
   "source": [
    "month_topic_counts = plot_heatmap_by_month(9,reindexed_data,  big_count_vectorizer)\n",
    "month_topic_counts"
   ]
  },
  {
   "cell_type": "code",
   "execution_count": 66,
   "metadata": {},
   "outputs": [
    {
     "ename": "NameError",
     "evalue": "name 'month_topic_counts' is not defined",
     "output_type": "error",
     "traceback": [
      "\u001b[1;31m---------------------------------------------------------------------------\u001b[0m",
      "\u001b[1;31mNameError\u001b[0m                                 Traceback (most recent call last)",
      "Cell \u001b[1;32mIn[66], line 2\u001b[0m\n\u001b[0;32m      1\u001b[0m fig, ax \u001b[39m=\u001b[39m plt\u001b[39m.\u001b[39msubplots(figsize\u001b[39m=\u001b[39m(\u001b[39m14\u001b[39m,\u001b[39m10\u001b[39m))\n\u001b[1;32m----> 2\u001b[0m sb\u001b[39m.\u001b[39mheatmap(month_topic_counts, cmap\u001b[39m=\u001b[39m\u001b[39m\"\u001b[39m\u001b[39mYlGnBu\u001b[39m\u001b[39m\"\u001b[39m, ax\u001b[39m=\u001b[39max);\n\u001b[0;32m      3\u001b[0m plt\u001b[39m.\u001b[39mshow()\n",
      "\u001b[1;31mNameError\u001b[0m: name 'month_topic_counts' is not defined"
     ]
    },
    {
     "data": {
      "image/png": "[encoded data removed]",
      "text/plain": [
       "<Figure size 1400x1000 with 1 Axes>"
      ]
     },
     "metadata": {},
     "output_type": "display_data"
    }
   ],
   "source": [
    "fig, ax = plt.subplots(figsize=(14,10))\n",
    "sb.heatmap(month_topic_counts, cmap=\"YlGnBu\", ax=ax);\n",
    "plt.show()"
   ]
  }
 ],
 "metadata": {
  "kernelspec": {
   "display_name": "Python 3",
   "language": "python",
   "name": "python3"
  },
  "language_info": {
   "codemirror_mode": {
    "name": "ipython",
    "version": 3
   },
   "file_extension": ".py",
   "mimetype": "text/x-python",
   "name": "python",
   "nbconvert_exporter": "python",
   "pygments_lexer": "ipython3",
   "version": "3.10.8"
  },
  "orig_nbformat": 4,
  "vscode": {
   "interpreter": {
    "hash": "8229163749b726565a2a76da1ff38f88f4958abb13b2d90e33d905a471b89730"
   }
  }
 },
 "nbformat": 4,
 "nbformat_minor": 2
}
